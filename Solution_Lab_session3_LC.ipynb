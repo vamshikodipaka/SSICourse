{
 "cells": [
  {
   "cell_type": "markdown",
   "metadata": {
    "collapsed": true
   },
   "source": [
    "# Lab session 3 ---- Linear Classification"
   ]
  },
  {
   "cell_type": "markdown",
   "metadata": {},
   "source": [
    "Student: VAMSHI KODIPAKA                       \n",
    "Date: 19-MAY-2019"
   ]
  },
  {
   "cell_type": "markdown",
   "metadata": {},
   "source": [
    "## I. Introduction\n",
    "In this lab, we will implement linear discriminant analysis and logistic regression.\n",
    "We will try to recognize images.\n",
    "You shall submit a clearly written and commented report as well as your own code."
   ]
  },
  {
   "cell_type": "markdown",
   "metadata": {},
   "source": [
    "## II. Female or Male?\n",
    "The file heightWeightData.txt contains some data showing the height and weight of different people. The first column is the class label (1=male, 2=female), the second column is the height and the third is the weight."
   ]
  },
  {
   "cell_type": "markdown",
   "metadata": {},
   "source": [
    "## Question 1\n",
    "Extract the height/weight data corresponding to males. "
   ]
  },
  {
   "cell_type": "code",
   "execution_count": 1,
   "metadata": {},
   "outputs": [],
   "source": [
    "from numpy import*\n",
    "import numpy as np\n",
    "\n",
    "import matplotlib.pyplot as plt\n",
    "import matplotlib.image as mpimg\n",
    "from scipy.io import loadmat\n",
    "from scipy.optimize import minimize\n",
    "\n",
    "#import pandas as pd\n",
    "from sklearn.decomposition import PCA\n",
    "from matplotlib.patches import Ellipse\n"
   ]
  },
  {
   "cell_type": "code",
   "execution_count": 2,
   "metadata": {},
   "outputs": [],
   "source": [
    "# load the heightWeight Data\n",
    "data = np.loadtxt(\"heightWeightData.txt\", delimiter= \",\")\n",
    "X = data[:,1:3]\n",
    "y = data[:,0]"
   ]
  },
  {
   "cell_type": "code",
   "execution_count": 3,
   "metadata": {},
   "outputs": [],
   "source": [
    "def plot_cov_ellipse(cov, pos, nstd, ax=None, **kwargs):\n",
    "    \n",
    "    # find eigen values and eigen vectors\n",
    "    eigvals, eigvecs = np.linalg.eigh(cov)\n",
    "\n",
    "    #sort eigen values\n",
    "    order = eigvals.argsort()[::-1]\n",
    "    \n",
    "    #re-annge eigen values and eigen vectors\n",
    "    eigvals, eigvecs = eigvals[order], eigvecs[:, order]\n",
    "\n",
    "    theta = np.arctan2(eigvecs[:,0][1],eigvecs[:,0][0])\n",
    "    \n",
    "\n",
    "    # Width and height are \"full\" widths, not radius\n",
    "\n",
    "    width,height = 2 * nstd * np.sqrt(eigvals)\n",
    "\n",
    "    # Ellipse representation\n",
    "    ellip = Ellipse(xy=pos, width=width, height = height, angle =np.degrees(theta), **kwargs)\n",
    "\n",
    "    return ellip"
   ]
  },
  {
   "cell_type": "code",
   "execution_count": 4,
   "metadata": {},
   "outputs": [
    {
     "name": "stdout",
     "output_type": "stream",
     "text": [
      "67.36190476190477\n",
      "145.65714285714284\n",
      "\n"
     ]
    },
    {
     "data": {
      "image/png": "[encoded data removed]",
      "text/plain": [
       "<Figure size 432x288 with 1 Axes>"
      ]
     },
     "metadata": {
      "needs_background": "light"
     },
     "output_type": "display_data"
    }
   ],
   "source": [
    "with open (\"heightWeightData.txt\") as adr:\n",
    "    # load text here\n",
    "    data = np.loadtxt(adr, delimiter = ',')\n",
    "    data1 = data[:,1:3] # height and weight Extraction\n",
    "    data2 = data[:,0] # for female\n",
    "    #male = data[:]\n",
    "    \n",
    "    # find covariance\n",
    "    cov = np.cov(data[:,1],data[:,2])\n",
    "    \n",
    "    # Mean of height\n",
    "    dataMean_Height = np.mean(data[:,1])\n",
    "    \n",
    "    # mean of weight\n",
    "    dataMean_Weight = np.mean(data[:,2])\n",
    "    \n",
    "    # plotting conv ellipse now\n",
    "    e = plot_cov_ellipse(cov, (dataMean_Height,dataMean_Weight), nstd=3, alpha = 0.4)\n",
    "    \n",
    "    # printing the height and weight\n",
    "    print(dataMean_Height)\n",
    "    print(dataMean_Weight)\n",
    "    print()\n",
    "    \n",
    "    fig, ax = plt.subplots()\n",
    "    ax.plot(data[:,1], data[:,2], 'r.')\n",
    "    ax.set_xlim([55, 90])\n",
    "    ax.set_ylim([50, 300])\n",
    "    ax.add_artist(e)\n",
    "  "
   ]
  },
  {
   "cell_type": "markdown",
   "metadata": {},
   "source": [
    "## Question 2 \n",
    "Standardize the data (i.e. make each feature have 0 mean and unit variance) and re-estimate the\n",
    "2d Gaussian."
   ]
  },
  {
   "cell_type": "code",
   "execution_count": 5,
   "metadata": {},
   "outputs": [],
   "source": [
    "def standardFeatures (X): \n",
    "    \n",
    "    # calculate mean\n",
    "    mu = np.mean (X, axis = 0) \n",
    "    \n",
    "    # calculate variance\n",
    "    sigma = np.std (X, axis = 0) \n",
    "    X_norm = (X - mu) / sigma \n",
    "    \n",
    "    return X_norm, mu, sigma  \n"
   ]
  },
  {
   "cell_type": "code",
   "execution_count": 6,
   "metadata": {},
   "outputs": [
    {
     "name": "stdout",
     "output_type": "stream",
     "text": [
      "(array([67., 68., 67., 60., 64., 61., 79., 61., 71., 66., 60., 71., 72.,\n",
      "       55., 64., 65., 65., 71., 68., 71., 67., 70., 68., 72., 71., 65.,\n",
      "       67., 66., 63., 62., 71., 64., 64., 69., 75., 65., 67., 65., 75.,\n",
      "       57., 68., 73., 68., 62., 68., 74., 63., 73., 66., 68., 72., 63.,\n",
      "       65., 75., 69., 72., 69., 62., 64., 63., 78., 63., 73., 69., 63.,\n",
      "       63., 63., 70., 69., 61., 65., 72., 69., 70., 67., 64., 70., 71.,\n",
      "       72., 66., 66., 71., 68., 67., 67., 69., 66., 71., 65., 62., 65.,\n",
      "       68., 67., 63., 64., 61., 62., 63., 70., 73., 74., 79., 71., 63.,\n",
      "       73., 70., 75., 62., 67., 65., 66., 69., 60., 67., 65., 66., 69.,\n",
      "       73., 74., 65., 62., 64., 63., 65., 61., 73., 74., 72., 65., 73.,\n",
      "       74., 75., 70., 62., 68., 57., 72., 66., 65., 63., 66., 74., 64.,\n",
      "       67., 71., 60., 65., 62., 64., 66., 71., 69., 70., 64., 62., 77.,\n",
      "       62., 69., 70., 71., 72., 68., 69., 63., 65., 67., 67., 73., 63.,\n",
      "       73., 63., 68., 69., 69., 63., 64., 69., 63., 64., 63., 67., 71.,\n",
      "       68., 64., 73., 68., 67., 61., 69., 66., 64., 76., 64., 63., 62.,\n",
      "       62., 71., 67., 68., 71., 67., 64., 70., 62., 73., 79., 75., 71.,\n",
      "       65., 70.]), array([125., 140., 142., 110.,  97., 106., 210., 110., 150., 145., 113.,\n",
      "       175., 145., 110., 112., 135., 135., 140., 130., 152., 127., 143.,\n",
      "       165., 160., 185., 114., 116., 113., 145., 116., 155., 107., 104.,\n",
      "       137., 200., 150., 140., 125., 240., 140., 135., 178., 122., 145.,\n",
      "       190., 180., 125., 165., 115., 125., 210., 118., 135., 225., 145.,\n",
      "       240., 170., 105., 125., 130., 190., 115., 280., 125., 120., 145.,\n",
      "       132., 195., 168., 105., 112., 215., 150., 150., 125., 135., 185.,\n",
      "       127., 178., 123., 145., 135., 135., 145., 145., 193., 125., 148.,\n",
      "       125., 120., 119., 160., 140., 115., 125.,  95., 126., 165., 167.,\n",
      "       250., 280., 180., 175., 120., 125., 156., 185., 130., 140., 120.,\n",
      "       140., 155., 105., 125., 115., 130., 170., 247., 172., 147., 140.,\n",
      "       120., 110., 115., 115., 165., 180., 182., 130., 160., 190., 180.,\n",
      "       165., 140., 165., 125., 160., 128., 115., 135., 118., 130., 130.,\n",
      "       140., 174., 118., 133., 107., 145., 150., 165., 143., 155., 138.,\n",
      "       147., 245., 130., 135., 150., 135., 160., 110., 155.,  96., 140.,\n",
      "       120., 130., 155., 105., 160., 112., 125., 132., 175., 150., 105.,\n",
      "       135., 134., 115., 123., 170., 162., 140., 115., 205., 130., 145.,\n",
      "       125., 180., 135., 140., 185., 135., 127., 115., 135., 142., 140.,\n",
      "       135., 178., 135., 127., 153., 110., 165., 165., 160., 170., 117.,\n",
      "       185.]))\n"
     ]
    },
    {
     "ename": "NameError",
     "evalue": "name 'get_cov_ellipse' is not defined",
     "output_type": "error",
     "traceback": [
      "\u001b[0;31m---------------------------------------------------------------------------\u001b[0m",
      "\u001b[0;31mNameError\u001b[0m                                 Traceback (most recent call last)",
      "\u001b[0;32m<ipython-input-6-01ba3799d924>\u001b[0m in \u001b[0;36m<module>\u001b[0;34m\u001b[0m\n\u001b[1;32m      9\u001b[0m \u001b[0;34m\u001b[0m\u001b[0m\n\u001b[1;32m     10\u001b[0m \u001b[0;31m#print cov ellipse\u001b[0m\u001b[0;34m\u001b[0m\u001b[0;34m\u001b[0m\u001b[0;34m\u001b[0m\u001b[0m\n\u001b[0;32m---> 11\u001b[0;31m \u001b[0me2\u001b[0m \u001b[0;34m=\u001b[0m \u001b[0mget_cov_ellipse\u001b[0m \u001b[0;34m(\u001b[0m\u001b[0mcov\u001b[0m\u001b[0;34m,\u001b[0m \u001b[0;34m(\u001b[0m\u001b[0mmu1\u001b[0m\u001b[0;34m,\u001b[0m \u001b[0mmu2\u001b[0m\u001b[0;34m)\u001b[0m\u001b[0;34m,\u001b[0m \u001b[0;36m3\u001b[0m\u001b[0;34m,\u001b[0m \u001b[0malpha\u001b[0m \u001b[0;34m=\u001b[0m \u001b[0;36m0.4\u001b[0m\u001b[0;34m)\u001b[0m\u001b[0;34m\u001b[0m\u001b[0;34m\u001b[0m\u001b[0m\n\u001b[0m\u001b[1;32m     12\u001b[0m \u001b[0mprint\u001b[0m \u001b[0;34m(\u001b[0m\u001b[0;34mf'Covariance MAtrix with standardization: {cov} '\u001b[0m\u001b[0;34m)\u001b[0m\u001b[0;34m\u001b[0m\u001b[0;34m\u001b[0m\u001b[0m\n\u001b[1;32m     13\u001b[0m \u001b[0;34m\u001b[0m\u001b[0m\n",
      "\u001b[0;31mNameError\u001b[0m: name 'get_cov_ellipse' is not defined"
     ]
    }
   ],
   "source": [
    "male = (data[:,1],data[:,2])\n",
    "print(male)\n",
    "\n",
    "# calculate standarized features\n",
    "X_norm, mu, sigma = standardFeatures (male)\n",
    "cov = np.cov (X_norm [:, 0], X_norm [:, 1])\n",
    "mu1 = np.mean (X_norm [:, 0])\n",
    "mu2 = np.mean (X_norm [:, 1]) \n",
    "\n",
    "#print cov ellipse\n",
    "e2 = get_cov_ellipse (cov, (mu1, mu2), 3, alpha = 0.4)\n",
    "print (f'Covariance MAtrix with standardization: {cov} ') \n",
    "\n",
    "# plot the figures\n",
    "fig, ax = plt.subplots () \n",
    "ax.plot (X_norm [:, 0 ], X_norm [:, 1], 'r.') \n",
    "Ax.set_xlim ([- 3.1,4])\n",
    "ax.set_ylim ([- 3.2,5]) \n",
    "ax.add_artist (e2)"
   ]
  },
  {
   "cell_type": "code",
   "execution_count": 7,
   "metadata": {},
   "outputs": [
    {
     "ename": "TypeError",
     "evalue": "data type not understood",
     "output_type": "error",
     "traceback": [
      "\u001b[0;31m---------------------------------------------------------------------------\u001b[0m",
      "\u001b[0;31mTypeError\u001b[0m                                 Traceback (most recent call last)",
      "\u001b[0;32m<ipython-input-7-68377f1627b6>\u001b[0m in \u001b[0;36m<module>\u001b[0;34m\u001b[0m\n\u001b[1;32m      1\u001b[0m \u001b[0;31m# male data read as array\u001b[0m\u001b[0;34m\u001b[0m\u001b[0;34m\u001b[0m\u001b[0;34m\u001b[0m\u001b[0m\n\u001b[0;32m----> 2\u001b[0;31m \u001b[0mmale\u001b[0m \u001b[0;34m=\u001b[0m \u001b[0mnp\u001b[0m\u001b[0;34m.\u001b[0m\u001b[0marray\u001b[0m\u001b[0;34m(\u001b[0m\u001b[0mdata\u001b[0m\u001b[0;34m[\u001b[0m\u001b[0;34m:\u001b[0m\u001b[0;34m,\u001b[0m\u001b[0;36m1\u001b[0m\u001b[0;34m]\u001b[0m\u001b[0;34m,\u001b[0m\u001b[0mdata\u001b[0m\u001b[0;34m[\u001b[0m\u001b[0;34m:\u001b[0m\u001b[0;34m,\u001b[0m\u001b[0;36m2\u001b[0m\u001b[0;34m]\u001b[0m\u001b[0;34m)\u001b[0m\u001b[0;34m.\u001b[0m\u001b[0mT\u001b[0m\u001b[0;34m\u001b[0m\u001b[0;34m\u001b[0m\u001b[0m\n\u001b[0m\u001b[1;32m      3\u001b[0m \u001b[0mprint\u001b[0m\u001b[0;34m(\u001b[0m\u001b[0mmale\u001b[0m\u001b[0;34m)\u001b[0m\u001b[0;34m\u001b[0m\u001b[0;34m\u001b[0m\u001b[0m\n\u001b[1;32m      4\u001b[0m \u001b[0;34m\u001b[0m\u001b[0m\n\u001b[1;32m      5\u001b[0m \u001b[0mcopy_male\u001b[0m \u001b[0;34m=\u001b[0m \u001b[0mmale\u001b[0m \u001b[0;34m[\u001b[0m\u001b[0;34m:\u001b[0m\u001b[0;34m,\u001b[0m \u001b[0;36m1\u001b[0m\u001b[0;34m:\u001b[0m\u001b[0;34m]\u001b[0m\u001b[0;34m\u001b[0m\u001b[0;34m\u001b[0m\u001b[0m\n",
      "\u001b[0;31mTypeError\u001b[0m: data type not understood"
     ]
    }
   ],
   "source": [
    "# male data read as array\n",
    "male = np.array(data[:,1],data[:,2]).T\n",
    "print(male)\n",
    "\n",
    "copy_male = male [:, 1:] \n",
    "\n",
    "# Taking SVD on male data\n",
    "U, S, V = np.linalg.svd (copy_male)\n",
    "\n",
    "# Taking dot product \n",
    "cov_male = np.dot (copy_male.T, copy_male) \n",
    "\n",
    "# finding Eigen values and Eigen vectors\n",
    "d, V = np.linalg.eigh (cov_male) \n",
    "D = np.diag (1. / np.sqrt (d)) \n",
    "W = np.dot (np.dot (V, D), VT) \n",
    "white_male = np.dot (copy_male, W) \n",
    "\n",
    "# Finding mean and covariance\n",
    "white_height_male = white_male [ :, 0] .mean ()\n",
    "white_weight_male = white_male [:, 1] .mean () \n",
    "whitecov_male = np.cov (white_male.T) \n",
    "\n",
    "# find whiteGaussian - by multivariant normal\n",
    "whiteGauss = np.random.multivariate_normal ([white_height_male, white_weight_male], whitecov_male, 100) \n",
    "\n",
    "# plot the white Gaussian Data\n",
    "plt. scatter (whiteGauss [:, 0], whiteGauss [:, 1], c = 'b')"
   ]
  },
  {
   "cell_type": "markdown",
   "metadata": {},
   "source": [
    "## Question 3\n",
    "data whitening or sphering"
   ]
  },
  {
   "cell_type": "code",
   "execution_count": null,
   "metadata": {},
   "outputs": [],
   "source": []
  },
  {
   "cell_type": "markdown",
   "metadata": {},
   "source": [
    "## We now want to use the height/weight features to classify each person as male or female.\n",
    "## Question 1\n",
    "Use LDA to perform this classification and compute the training error. Note that we will use all data as training set."
   ]
  },
  {
   "cell_type": "code",
   "execution_count": 8,
   "metadata": {},
   "outputs": [
    {
     "name": "stdout",
     "output_type": "stream",
     "text": [
      "Training Accuracy: 88.09523809523809 %\n"
     ]
    }
   ],
   "source": [
    "from sklearn.discriminant_analysis import LinearDiscriminantAnalysis\n",
    "\n",
    "# finding LDA\n",
    "lda = LinearDiscriminantAnalysis()\n",
    "\n",
    "# Fit the LDA\n",
    "lda.fit(X,y)\n",
    "\n",
    "# printing the Training Accuracy\n",
    "print(\"Training Accuracy:\",(lda.score(X,y.ravel()))*100,\"%\")"
   ]
  },
  {
   "cell_type": "markdown",
   "metadata": {},
   "source": [
    "## Question 2\n",
    "We can also use PCA to project the data onto a 1d space. Compute the corresponding principal component and explain the difference with the decision boundary found by LDA?"
   ]
  },
  {
   "cell_type": "code",
   "execution_count": 9,
   "metadata": {},
   "outputs": [
    {
     "name": "stdout",
     "output_type": "stream",
     "text": [
      "Training Accuracy: 88.57142857142857 %\n"
     ]
    }
   ],
   "source": [
    "from sklearn.preprocessing import StandardScaler\n",
    "from sklearn.decomposition import PCA\n",
    "\n",
    "# Working on Standardization\n",
    "X_std = StandardScaler().fit_transform(X)\n",
    "\n",
    "# Finding PCA\n",
    "pca = PCA(n_components=1)\n",
    "X_pca = pca.fit_transform(X_std)\n",
    "\n",
    "# Finding LDA\n",
    "lda1 = LinearDiscriminantAnalysis()\n",
    "lda1.fit(X_pca,y)\n",
    "\n",
    "# Finding Training Accuracy\n",
    "print(\"Training Accuracy:\",(lda1.score(X_pca,y.ravel()))*100,\"%\")"
   ]
  },
  {
   "cell_type": "markdown",
   "metadata": {},
   "source": [
    "## III. Digits recognition"
   ]
  },
  {
   "cell_type": "markdown",
   "metadata": {},
   "source": [
    "## Question 1\n",
    "Data visualization"
   ]
  },
  {
   "cell_type": "code",
   "execution_count": 10,
   "metadata": {},
   "outputs": [
    {
     "data": {
      "image/png": "[encoded data removed]",
      "text/plain": [
       "<Figure size 288x288 with 25 Axes>"
      ]
     },
     "metadata": {
      "needs_background": "light"
     },
     "output_type": "display_data"
    }
   ],
   "source": [
    "# Load training Data, Training Labels and Test Data and Test Labels\n",
    "data_train = loadmat('trainingData.mat')\n",
    "y_train = data_train['trainingLabels']\n",
    "X_train = data_train['training']\n",
    "\n",
    "data_test = loadmat('testData.mat')\n",
    "y_test = data_test['testLabels']\n",
    "X_test = data_test['test']\n",
    "\n",
    "# Plot figures\n",
    "fig, axis = plt.subplots(5,5,figsize=(4,4))\n",
    "for i in range(5):\n",
    "    for j in range(5):\n",
    "        axis[i,j].imshow((X_train[np.random.randint(0,8000),:].reshape(28,28,order=\"F\")).T)\n",
    "        axis[i,j].axis(\"off\")"
   ]
  },
  {
   "cell_type": "markdown",
   "metadata": {},
   "source": [
    "## Question 2\n",
    "Dimension reduction:"
   ]
  },
  {
   "cell_type": "code",
   "execution_count": 11,
   "metadata": {},
   "outputs": [
    {
     "name": "stderr",
     "output_type": "stream",
     "text": [
      "/home/vamshi/.local/lib/python3.6/site-packages/sklearn/utils/validation.py:595: DataConversionWarning: Data with input dtype uint8 was converted to float64 by StandardScaler.\n",
      "  warnings.warn(msg, DataConversionWarning)\n",
      "/home/vamshi/.local/lib/python3.6/site-packages/sklearn/utils/validation.py:595: DataConversionWarning: Data with input dtype uint8 was converted to float64 by StandardScaler.\n",
      "  warnings.warn(msg, DataConversionWarning)\n"
     ]
    }
   ],
   "source": [
    "# Standarizing the Test and Train data\n",
    "X_STD = np.r_[X_train,X_test]\n",
    "X_STD = StandardScaler().fit_transform(X_STD)\n",
    "\n",
    "# Using PCA Transform, Perform Dimension Reduction\n",
    "pca = PCA(n_components=2)\n",
    "X_PCA = pca.fit_transform(X_STD)\n",
    "X_PCA_train = X_PCA[0:X_train.shape[0],:]\n",
    "X_PCA_test = X_PCA[X_train.shape[0]:X_PCA.shape[0],:]"
   ]
  },
  {
   "cell_type": "markdown",
   "metadata": {},
   "source": [
    "## Question 3\n",
    "Classification"
   ]
  },
  {
   "cell_type": "code",
   "execution_count": 12,
   "metadata": {},
   "outputs": [
    {
     "name": "stderr",
     "output_type": "stream",
     "text": [
      "/home/vamshi/.local/lib/python3.6/site-packages/sklearn/linear_model/logistic.py:460: FutureWarning: Default multi_class will be changed to 'auto' in 0.22. Specify the multi_class option to silence this warning.\n",
      "  \"this warning.\", FutureWarning)\n"
     ]
    },
    {
     "data": {
      "text/plain": [
       "LogisticRegression(C=10, class_weight=None, dual=False, fit_intercept=True,\n",
       "          intercept_scaling=1, max_iter=100, multi_class='warn',\n",
       "          n_jobs=None, penalty='l2', random_state=None, solver='liblinear',\n",
       "          tol=0.0001, verbose=0, warm_start=False)"
      ]
     },
     "execution_count": 12,
     "metadata": {},
     "output_type": "execute_result"
    }
   ],
   "source": [
    "from sklearn.linear_model import LogisticRegression\n",
    "\n",
    "# by Logistic Regression fir the PCA\n",
    "lr = LogisticRegression(C=10, penalty='l2', solver='liblinear')\n",
    "lr.fit(X_PCA_train,y_train.ravel())"
   ]
  },
  {
   "cell_type": "code",
   "execution_count": 13,
   "metadata": {},
   "outputs": [
    {
     "name": "stdout",
     "output_type": "stream",
     "text": [
      "Training Accuracy: 39.8625 %\n",
      "Test Accuracy: 45.4 %\n"
     ]
    }
   ],
   "source": [
    "# predict the PCA Train\n",
    "pred = lr.predict(X_PCA_train)\n",
    "print('Training Accuracy: {} %'.format(np.mean(pred == y_train.ravel())*100))\n",
    "pred = lr.predict(X_PCA_test)\n",
    "print('Test Accuracy: {} %'.format(np.mean(pred == y_test.ravel())*100))"
   ]
  },
  {
   "cell_type": "code",
   "execution_count": 14,
   "metadata": {},
   "outputs": [
    {
     "name": "stderr",
     "output_type": "stream",
     "text": [
      "/home/vamshi/.local/lib/python3.6/site-packages/sklearn/svm/base.py:931: ConvergenceWarning: Liblinear failed to converge, increase the number of iterations.\n",
      "  \"the number of iterations.\", ConvergenceWarning)\n"
     ]
    },
    {
     "data": {
      "text/plain": [
       "LinearSVC(C=1.0, class_weight=None, dual=True, fit_intercept=True,\n",
       "     intercept_scaling=1, loss='squared_hinge', max_iter=1000,\n",
       "     multi_class='ovr', penalty='l2', random_state=None, tol=0.0001,\n",
       "     verbose=0)"
      ]
     },
     "execution_count": 14,
     "metadata": {},
     "output_type": "execute_result"
    }
   ],
   "source": [
    "# Using SVM PCA to fit the data\n",
    "from sklearn.svm import LinearSVC\n",
    "svm_pca = LinearSVC()\n",
    "svm_pca.fit(X_PCA_train, y_train.ravel())"
   ]
  },
  {
   "cell_type": "code",
   "execution_count": 15,
   "metadata": {},
   "outputs": [
    {
     "name": "stdout",
     "output_type": "stream",
     "text": [
      "Training Accuracy: 36.8125 %\n",
      "Test Accuracy: 43.6 %\n"
     ]
    }
   ],
   "source": [
    "# printing the Test and Train Accuracy\n",
    "print(\"Training Accuracy:\",(svm_pca.score(X_PCA_train,y_train.ravel()))*100,\"%\")\n",
    "print(\"Test Accuracy:\",(svm_pca.score(X_PCA_test,y_test.ravel()))*100,\"%\")"
   ]
  },
  {
   "cell_type": "markdown",
   "metadata": {},
   "source": [
    "## Question 4\n",
    "We have reduced the dimesion to 2, but this was an arbitrary choice. How can we select a better value for d?"
   ]
  },
  {
   "cell_type": "markdown",
   "metadata": {
    "collapsed": true
   },
   "source": [
    "#### Value of 'd' which gives high accuracy is the better value for 'd'"
   ]
  },
  {
   "cell_type": "markdown",
   "metadata": {},
   "source": [
    "## CHEERS!"
   ]
  }
 ],
 "metadata": {
  "kernelspec": {
   "display_name": "Python 3",
   "language": "python",
   "name": "python3"
  },
  "language_info": {
   "codemirror_mode": {
    "name": "ipython",
    "version": 3
   },
   "file_extension": ".py",
   "mimetype": "text/x-python",
   "name": "python",
   "nbconvert_exporter": "python",
   "pygments_lexer": "ipython3",
   "version": "3.6.7"
  }
 },
 "nbformat": 4,
 "nbformat_minor": 2
}
