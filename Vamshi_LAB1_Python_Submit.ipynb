{
 "cells": [
  {
   "cell_type": "markdown",
   "metadata": {},
   "source": [
    "# Lab session 1:: Linear Regression: Python Scripting via Jupyter Notebook"
   ]
  },
  {
   "cell_type": "markdown",
   "metadata": {},
   "source": [
    "### Student:VAMSHI KODIPAKA                                                       \n",
    "### Submitted to : Prof. Yifei ZHANG\n",
    "\n",
    "### Date:22-MAR-2019"
   ]
  },
  {
   "cell_type": "markdown",
   "metadata": {},
   "source": [
    "## I. Introduction\n",
    "In this exercise, we will implement linear regression with one and multiple variables, as well as gradient descent."
   ]
  },
  {
   "cell_type": "markdown",
   "metadata": {},
   "source": [
    "# II. Linear regression with one variable\n",
    "Suppose you are the CEO of a restaurant franchise and are considering different cities for opening a new food truck. The chain already has trucks in various cities and you have data for profits and populations from the cities.\n",
    "You would like to use this data to help you select which city to expand to next. The file lab1data1.txt contains the dataset: the first column is the poplulation of a city and the second column is the profit of a food truck in that city. An negative value for profit indicates a loss."
   ]
  },
  {
   "cell_type": "markdown",
   "metadata": {},
   "source": [
    "### Solution Question 1"
   ]
  },
  {
   "cell_type": "code",
   "execution_count": 40,
   "metadata": {
    "scrolled": true
   },
   "outputs": [
    {
     "data": {
      "image/png": "[encoded data removed]",
      "text/plain": [
       "<Figure size 432x288 with 1 Axes>"
      ]
     },
     "metadata": {
      "needs_background": "light"
     },
     "output_type": "display_data"
    }
   ],
   "source": [
    "# NumPy package is used to perform different operations.\n",
    "# It is a multidimensional array used to store values of same datatype.\n",
    "\n",
    "import numpy as np \n",
    "\n",
    "# matplotlib inline \n",
    "import matplotlib.pyplot as plt\n",
    "# creates a figure, creates a plotting area in a figure, plots some lines in a plotting area\n",
    "\n",
    "# loading data from a text file\n",
    "def plotData(X,y):\n",
    "    plt.plot(X,y,'rx')                                             # Plot the data\n",
    "    plt.xlabel('Population figures in the city (in 10,000s)')      # X-Label given\n",
    "    plt.ylabel('Profit in $10000s')                                # Y-Label given         \n",
    "    plt.show()                                                     # Display a figure.\n",
    "\n",
    "data = np.loadtxt(fname='data/lab1data1.txt', delimiter=',') \n",
    "#Every element of the fileis separated here by a dilimiter\n",
    "\n",
    "X=data[:,:-1]           # Reading data of X-column(s)\n",
    "y=data[:,1]             # Reading data of Y-colum\n",
    "\n",
    "plotData(X,y)           # Plotting X verses y"
   ]
  },
  {
   "cell_type": "markdown",
   "metadata": {},
   "source": [
    "### Solution Question 2"
   ]
  },
  {
   "cell_type": "code",
   "execution_count": 41,
   "metadata": {},
   "outputs": [
    {
     "name": "stdout",
     "output_type": "stream",
     "text": [
      "[-3.89578088  1.19303364]\n"
     ]
    }
   ],
   "source": [
    "# Linear Regression with one variable  ----> y=w0 + w1*x\n",
    "\n",
    "# Now we get X and y, writing function LinearReg(X,y) to find w\n",
    "# Least Square Method, ex: np.linalg.lstsq(X,y)\n",
    "# note:  you should add one dimension to each input variable to take care of the bias term\n",
    "# ex :\n",
    "# intercept = np.ones((X.shape[0],1))\n",
    "# X = np.asmatrix(np.hstack(intercept,X))\n",
    "# also, you can print the results out to see the difference\n",
    "\n",
    "\n",
    "def LinearReg(X, y, intercept=False):                     #  function definition for LinearReg\n",
    "    if intercept:                                         #  find intercept exists\n",
    "        X_ = np.asmatrix(X)                               #  if intercept exsists convert X into a matrix\n",
    "    else:\n",
    "        intercept_array = np.ones((X.shape[0],1))         #  intercept vector with all ones\n",
    "        X_ = np.asmatrix(np.hstack((intercept_array,X)))  #  assigning the intercept vector to the X matrix\n",
    "    w, _, _,_ = np.linalg.lstsq(X_,y,rcond=None)          #  using linear Least square inbuilt function to find w\n",
    "    return w\n",
    "\n",
    "intercept = False\n",
    "w = LinearReg(X,y,intercept)                              #  User-defined LinearReg Function\n",
    "print(w)                                                  #  print weight vector w"
   ]
  },
  {
   "cell_type": "markdown",
   "metadata": {},
   "source": [
    "### Solution Question 3"
   ]
  },
  {
   "cell_type": "code",
   "execution_count": 42,
   "metadata": {},
   "outputs": [],
   "source": [
    "def predict(X,w, intercept=False):                        #  function definition for predict\n",
    "    if intercept:                                         #  find intercept exists or not\n",
    "        X_ =np.asmatrix(X)                                #  if intercept exsists convert X into a matrix\n",
    "    else:\n",
    "        intercept_array = np.ones((X.shape[0],1))         #  intercept vector with all ones\n",
    "        X_ = np.asmatrix(np.hstack((intercept_array, X))) #  assigning the intercept vector to the X matrix\n",
    "    w= np.matrix(np.atleast_2d(w).T)                      #  making weight vector transpose\n",
    "    print(X_)                                             #  print X_\n",
    "    return np.ravel(X_ * w)"
   ]
  },
  {
   "cell_type": "code",
   "execution_count": 43,
   "metadata": {},
   "outputs": [
    {
     "name": "stdout",
     "output_type": "stream",
     "text": [
      "[[1.  3.5]\n",
      " [1.  7. ]]\n",
      "[0.27983688 4.45545463]\n"
     ]
    }
   ],
   "source": [
    "X_test =np.asmatrix([[3.5000],[7.0000]])                  #  Test input vector\n",
    "y_predict = predict(X_test,w)                             #  Calling predict\n",
    "print(y_predict)                                          #  print predicted value using previous weights"
   ]
  },
  {
   "cell_type": "markdown",
   "metadata": {},
   "source": [
    "# III. Linear regression with multiple variables\n",
    "Suppose you are selling your house and you want to know what a good market price would be. One way to do this is to collect information on recent houses sold and make a model of housing prices.\n",
    "The file lab1data2.txt contains a training set of housing prices in a city. The first column is the size of the house (in square feet), the second column is the number of bedrooms and the third column is the price of the house."
   ]
  },
  {
   "cell_type": "markdown",
   "metadata": {},
   "source": [
    "### Solution Question 1"
   ]
  },
  {
   "cell_type": "code",
   "execution_count": 44,
   "metadata": {},
   "outputs": [],
   "source": [
    "# Linear regression with multiple variables"
   ]
  },
  {
   "cell_type": "code",
   "execution_count": 45,
   "metadata": {},
   "outputs": [],
   "source": [
    "from numpy import loadtxt, zeros, ones, array, linspace, logspace, mean, std, arange #  importing various libraries\n",
    "from mpl_toolkits.mplot3d import Axes3D                                              #  importing Axes3D \n",
    "import matplotlib.pyplot as plt                                                      #  importing plt\n",
    "from pylab import plot, show, xlabel, ylabel                                         #  importing plot functions"
   ]
  },
  {
   "cell_type": "code",
   "execution_count": 46,
   "metadata": {},
   "outputs": [],
   "source": [
    "## Adapt your function Linear Reg to estimate w for any dimension"
   ]
  },
  {
   "cell_type": "code",
   "execution_count": 47,
   "metadata": {},
   "outputs": [
    {
     "name": "stdout",
     "output_type": "stream",
     "text": [
      "[-3.89578088  1.19303364]\n"
     ]
    },
    {
     "data": {
      "text/plain": [
       "'\\nSince the earliier weights will be assumed at this point of execution. Weights not updated here\\n\\n'"
      ]
     },
     "execution_count": 47,
     "metadata": {},
     "output_type": "execute_result"
    }
   ],
   "source": [
    "# linear regression with multiple variable  ----> y=w0 + w1*x +w2*x\n",
    "\n",
    "# Now we get X and y, please write function LinearReg(Xn,y) to find w\n",
    "# Least Square Method, ex: np.linalg.lstsq(X,y)\n",
    "# note:  youyou should add one dimension to each input variable to take care of the bias term\n",
    "# ex :\n",
    "# intercept = np.ones((X.shape[0],1))\n",
    "# X = np.asmatrix(np.hstack(intercept,X))\n",
    "# you can print the results out to see the difference\n",
    "\n",
    "\n",
    "def LinearReg(X, y, intercept=False):                        # Function definition for LinearReg\n",
    "    if intercept:                                            # find intercept exists or not\n",
    "        X_ = np.asmatrix(X)                                  # if intercept exsists convert X into a matrix\n",
    "    else:\n",
    "        intercept_array = np.ones((X.shape[0],1))            # intercept vector with all ones\n",
    "        X_ = np.asmatrix(np.hstack((intercept_array,X)))     # assigning the intercept vector to the X matrix\n",
    "    w, _, _,_ = np.linalg.lstsq(X_,y,rcond=None)             # using linear Least square inbuilt function to find w\n",
    "    return w\n",
    "\n",
    "intercept = False\n",
    "w = LinearReg(X,y,intercept)                                 # User-defined LinearReg Function\n",
    "\n",
    "print(w)                                                     # Printin w vector\n",
    "\n",
    "'''\n",
    "Since the earliier weights will be assumed at this point of execution. Weights not updated here\n",
    "\n",
    "'''"
   ]
  },
  {
   "cell_type": "markdown",
   "metadata": {},
   "source": [
    "### Solution Question 2"
   ]
  },
  {
   "cell_type": "code",
   "execution_count": 48,
   "metadata": {},
   "outputs": [],
   "source": [
    "#Evaluate the normalization factor\n",
    "def feature_normalize(X):                                       # Define normalization function\n",
    "\n",
    "    '''\n",
    "    Returns a normalized version of X where\n",
    "    the mean value of each feature is 0 and the standard deviation\n",
    "    is 1. This is often a good preprocessing step to do when\n",
    "    working with learning algorithms.\n",
    "    '''\n",
    "    mean_r = []                                                 # initializing mean vector\n",
    "    std_r = []                                                  # initializing standard_deviation vector\n",
    "    X_norm = X                                                  # Taking X as X_norm\n",
    "\n",
    "    n_c = X.shape[1]                                            # one column vector of X\n",
    "\n",
    "    for i in range(n_c):                                        # iteraating through all columns of X\n",
    "\n",
    "        m = mean(X[:, i])                                       # finding mean of X\n",
    "        s = std(X[:, i])                                        # finding standard dev \n",
    "        mean_r.append(m)                                        # append mean \n",
    "        std_r.append(s)                                         # append standard dev\n",
    "        X_norm[:, i] = (X_norm[:, i] - m) / s                   # Finding normalization vector\n",
    "        \n",
    "    return X_norm, mean_r, std_r\n"
   ]
  },
  {
   "cell_type": "markdown",
   "metadata": {},
   "source": [
    "### Solution Question 3"
   ]
  },
  {
   "cell_type": "code",
   "execution_count": 49,
   "metadata": {},
   "outputs": [
    {
     "data": {
      "image/png": "[encoded data removed]",
      "text/plain": [
       "<Figure size 432x288 with 1 Axes>"
      ]
     },
     "metadata": {
      "needs_background": "light"
     },
     "output_type": "display_data"
    }
   ],
   "source": [
    "#Load the dataset\n",
    "data = loadtxt('lab1data2.txt', delimiter=',')\n",
    "\n",
    "#Plotting the data\n",
    "fig = plt.figure()                                             # Display figure\n",
    "ax = fig.add_subplot(111, projection='3d')                     # subplot and projection of points in 3D \n",
    "n = 100                                                        # n is 100 points on the plot\n",
    "for c, m, zl, zh in [('r', 'o', -50, -25)]:\n",
    "    xs = data[:, 0]                                            # x axis data\n",
    "    ys = data[:, 1]                                            # y axis data \n",
    "    zs = data[:, 2]                                            # z axis data\n",
    "    ax.scatter(xs, ys, zs, c=c, marker=m)                      # scatter point in 3D\n",
    "ax.set_xlabel('Size of the House')                             # x-axis label\n",
    "ax.set_ylabel('Number of Bedrooms')                            # y-axis label\n",
    "ax.set_zlabel('Price of the House')                            # z-axis label\n",
    "plt.show()                                                     # Display plot\n",
    "\n",
    "X = data[:, :2]                                                # input X-matrix data                               \n",
    "y = data[:, 2]                                                 # output vector y\n"
   ]
  },
  {
   "cell_type": "markdown",
   "metadata": {},
   "source": [
    "### Solution Question 3b"
   ]
  },
  {
   "cell_type": "code",
   "execution_count": 50,
   "metadata": {},
   "outputs": [
    {
     "name": "stdout",
     "output_type": "stream",
     "text": [
      "[[340412.65957447]\n",
      " [109447.79646964]\n",
      " [ -6578.35485416]]\n"
     ]
    },
    {
     "data": {
      "text/plain": [
       "'\\nObservation:: Weights got updated here\\n\\n'"
      ]
     },
     "execution_count": 50,
     "metadata": {},
     "output_type": "execute_result"
    }
   ],
   "source": [
    "#number of training samples\n",
    "m = y.size                                                      # taking m as size of y\n",
    "y.shape = (m, 1)                                                # vectorizing y with mX1 vector \n",
    "\n",
    "#Scale features and set them to zero mean \n",
    "x, mean_r, std_r = feature_normalize(X)                         # normalizing function of X\n",
    "\n",
    "# Estimatiing features weights after normalization\n",
    "intercept = False                                               \n",
    "w = LinearReg(X,y,intercept)                                    # function call for LinearReg\n",
    "\n",
    "print(w)                                                        # printing w vector\n",
    "\n",
    "'''\n",
    "Observation:: Weights got updated here\n",
    "\n",
    "'''"
   ]
  },
  {
   "cell_type": "markdown",
   "metadata": {},
   "source": [
    "### Solution Question 4"
   ]
  },
  {
   "cell_type": "code",
   "execution_count": 51,
   "metadata": {},
   "outputs": [
    {
     "name": "stdout",
     "output_type": "stream",
     "text": [
      "Predicted price of a 1650 sq-ft, 3 br house: 292679.071680\n"
     ]
    }
   ],
   "source": [
    "# Since we require theta value here we write Cost function here\n",
    "def compute_cost(X, y, theta):                        # Defining compute_cost function\n",
    "    '''\n",
    "    Computing cost for linear regression\n",
    "    '''\n",
    "    #Number of training samples                 \n",
    "    m = y.size                                        # m as the size of y\n",
    "    predictions = X.dot(theta)                        # prediction using X and theta  \n",
    "    sqErrors = (predictions - y)                      # difference of y with predicted values of X\n",
    "    J = (1.0 / (2 * m)) * sqErrors.T.dot(sqErrors)    #squaring the difference\n",
    "    return J\n",
    "\n",
    "\n",
    "#Predict price of a 1650 sq-ft 3 br house using mean, standard deviation \n",
    "\n",
    "price = array([1.0,   ((1650.0 - mean_r[0]) / std_r[0]), ((3 - mean_r[1]) / std_r[1])]).dot(theta) \n",
    "\n",
    "print ('Predicted price of a 1650 sq-ft, 3 br house: %f' % (price))        # printing price\n"
   ]
  },
  {
   "cell_type": "markdown",
   "metadata": {},
   "source": [
    "# IV. Gradient descent\n",
    "We will now perform linear regression using gradient descent."
   ]
  },
  {
   "cell_type": "markdown",
   "metadata": {},
   "source": [
    "###  Prior idea of weights"
   ]
  },
  {
   "cell_type": "code",
   "execution_count": 52,
   "metadata": {},
   "outputs": [
    {
     "name": "stdout",
     "output_type": "stream",
     "text": [
      "[[340412.65957447]\n",
      " [109447.79646964]\n",
      " [ -6578.35485416]]\n"
     ]
    }
   ],
   "source": [
    "# Estimatiing features\n",
    "intercept = False\n",
    "w = LinearReg(X,y,intercept)\n",
    "\n",
    "print(w)"
   ]
  },
  {
   "cell_type": "markdown",
   "metadata": {},
   "source": [
    "### Solution Question 1"
   ]
  },
  {
   "cell_type": "code",
   "execution_count": 62,
   "metadata": {},
   "outputs": [],
   "source": [
    "def compute_cost(X, y, theta):                        # Defining compute_cost function\n",
    "    '''\n",
    "    Computing cost for linear regression\n",
    "    '''\n",
    "    #Number of training samples                 \n",
    "    m = y.size                                        # m as the size of y\n",
    "    predictions = X.dot(theta)                        # prediction using X and theta  \n",
    "    sqErrors = (predictions - y)                      # difference of y with predicted values of X\n",
    "    J = (1.0 / (2 * m)) * sqErrors.T.dot(sqErrors)    #squaring the difference\n",
    "    return J\n"
   ]
  },
  {
   "cell_type": "code",
   "execution_count": 63,
   "metadata": {},
   "outputs": [],
   "source": [
    "def gradient_descent(X, y, theta, alpha, num_iters):             # Defining gradient descent  function\n",
    "    '''\n",
    "    Performing gradient descent to learn theta\n",
    "    by taking num_items gradient steps with learning rate alpha\n",
    "    '''\n",
    "    m = y.size\n",
    "    J_history = zeros(shape=(num_iters, 1))                      #  taking a zero vector \n",
    "\n",
    "    for i in range(num_iters):                                   # iterating it through all elements of the vector\n",
    "        predictions = X.dot(theta)                               # find predicted values\n",
    "        theta_size = theta.size                                  # theta size variable\n",
    "        for it in range(theta_size):                             #  iterate over theta size\n",
    "            temp = X[:, it]                                      #  creating a temp vector of X elements\n",
    "            temp.shape = (m, 1)                                  #  shaping the vector size as mX1     \n",
    "            errors_x1 = (predictions - y) * temp                 # find error vector \n",
    "            theta[it][0] = theta[it][0] - alpha * (1.0 / m) * errors_x1.sum()   # weight vector denoted as theta\n",
    "        J_history[i, 0] = compute_cost(X, y, theta)              # calling compute_cost function\n",
    "    return theta, J_history\n"
   ]
  },
  {
   "cell_type": "code",
   "execution_count": 64,
   "metadata": {},
   "outputs": [],
   "source": [
    "#Load the dataset\n",
    "data = loadtxt('lab1data2.txt', delimiter=',')                 # all elements of file are separated by delimiter"
   ]
  },
  {
   "cell_type": "code",
   "execution_count": 65,
   "metadata": {},
   "outputs": [],
   "source": [
    "X = data[:, :2]                                                # X-data           \n",
    "y = data[:, 2]                                                 # y-data"
   ]
  },
  {
   "cell_type": "code",
   "execution_count": 66,
   "metadata": {},
   "outputs": [],
   "source": [
    "#number of training samples\n",
    "m = y.size                                                     # taking mas size of y\n",
    "y.shape = (m, 1)                                               # shaping y vector  as mX1\n",
    "\n",
    "#Add a column of ones to X (interception data)\n",
    "it = ones(shape=(m, 3))                                        # a vector od zeros and shaped mX3\n",
    "it[:, 1:3] = x                                                 "
   ]
  },
  {
   "cell_type": "code",
   "execution_count": 67,
   "metadata": {},
   "outputs": [
    {
     "name": "stdout",
     "output_type": "stream",
     "text": [
      "(array([[338658.2492493 ],\n",
      "       [103322.82942954],\n",
      "       [  -474.74249522]]), array([[5.32682599e+10],\n",
      "       [4.33890843e+10],\n",
      "       [3.54574304e+10],\n",
      "       [2.90805547e+10],\n",
      "       [2.39470789e+10],\n",
      "       [1.98095730e+10],\n",
      "       [1.64710108e+10],\n",
      "       [1.37742034e+10],\n",
      "       [1.15935242e+10],\n",
      "       [9.82841238e+09],\n",
      "       [8.39825400e+09],\n",
      "       [7.23834012e+09],\n",
      "       [6.29666589e+09],\n",
      "       [5.53139023e+09],\n",
      "       [4.90881531e+09],\n",
      "       [4.40177630e+09],\n",
      "       [3.98835592e+09],\n",
      "       [3.65085642e+09],\n",
      "       [3.37497638e+09],\n",
      "       [3.14915057e+09],\n",
      "       [2.96401994e+09],\n",
      "       [2.81200564e+09],\n",
      "       [2.68696628e+09],\n",
      "       [2.58392200e+09],\n",
      "       [2.49883199e+09],\n",
      "       [2.42841517e+09],\n",
      "       [2.37000541e+09],\n",
      "       [2.32143461e+09],\n",
      "       [2.28093826e+09],\n",
      "       [2.24707909e+09],\n",
      "       [2.21868527e+09],\n",
      "       [2.19480043e+09],\n",
      "       [2.17464323e+09],\n",
      "       [2.15757453e+09],\n",
      "       [2.14307089e+09],\n",
      "       [2.13070296e+09],\n",
      "       [2.12011811e+09],\n",
      "       [2.11102617e+09],\n",
      "       [2.10318797e+09],\n",
      "       [2.09640599e+09],\n",
      "       [2.09051677e+09],\n",
      "       [2.08538470e+09],\n",
      "       [2.08089704e+09],\n",
      "       [2.07695979e+09],\n",
      "       [2.07349437e+09],\n",
      "       [2.07043490e+09],\n",
      "       [2.06772597e+09],\n",
      "       [2.06532084e+09],\n",
      "       [2.06317993e+09],\n",
      "       [2.06126963e+09]]))\n"
     ]
    }
   ],
   "source": [
    "#Some gradient descent settings\n",
    "iterations = 50                                                # intializing iterations with value 50\n",
    "alpha = 0.1                                                    # intializing alpha with 0.1\n",
    "\n",
    "#Init Theta and Run Gradient Descent\n",
    "theta = zeros(shape=(3, 1))                                    # theta is a zero vector with 3X1 vector\n",
    "theta, J_history = gradient_descent(it, y, theta, alpha, iterations)   #calling gradient descent function\n",
    "print (theta, J_history)                                       # printing JCostfunction values verses theta"
   ]
  },
  {
   "cell_type": "code",
   "execution_count": 68,
   "metadata": {},
   "outputs": [
    {
     "data": {
      "image/png": "[encoded data removed]",
      "text/plain": [
       "<Figure size 432x288 with 1 Axes>"
      ]
     },
     "metadata": {
      "needs_background": "light"
     },
     "output_type": "display_data"
    }
   ],
   "source": [
    "# Remember we are plotting here for alpha=0.01\n",
    "# we can also plot for different values of alpha\n",
    "\n",
    "plot(arange(iterations), J_history)                          # plotting cost function values vs no.of iterations\n",
    "xlabel('Iterations')                                         # x-label\n",
    "ylabel('Cost Function')                                      # y-label\n",
    "show()                                                       # display plot\n"
   ]
  },
  {
   "cell_type": "code",
   "execution_count": 69,
   "metadata": {},
   "outputs": [
    {
     "name": "stdout",
     "output_type": "stream",
     "text": [
      "Predicted price of a 1650 sq-ft, 3 br house: 292679.071680\n"
     ]
    }
   ],
   "source": [
    "#Predict price of a 1650 sq-ft 3 br house using mean, standard deviation\n",
    "\n",
    "price = array([1.0,   ((1650.0 - mean_r[0]) / std_r[0]), ((3 - mean_r[1]) / std_r[1])]).dot(theta)\n",
    "\n",
    "print ('Predicted price of a 1650 sq-ft, 3 br house: %f' % (price))  # printing price\n"
   ]
  },
  {
   "cell_type": "markdown",
   "metadata": {},
   "source": [
    "## Conclusion:  Result3 and Result4 are equal"
   ]
  },
  {
   "cell_type": "code",
   "execution_count": 70,
   "metadata": {},
   "outputs": [],
   "source": [
    "# We can also use Machine Leaning inbult-functions and packages of Linear Regression \n",
    "# offered by 'scikit learn' in python"
   ]
  },
  {
   "cell_type": "markdown",
   "metadata": {},
   "source": [
    "# References\n"
   ]
  },
  {
   "cell_type": "markdown",
   "metadata": {},
   "source": [
    "[1] Prof. Yifei ZHANG's Class Notes  :: LinearRegression-Single-variable \n",
    "\n",
    "[2] Course era :: | Model Representation — Andrew Ng\n",
    "\n",
    "a) Linear Regression With One Variable  https://www.youtube.com/watch?v=kHwlB_j7Hkc\n",
    "\n",
    "b) Linear Regression With Multiple Variables  https://www.youtube.com/watch?v=Q4GNLhRtZNc&t=196s\n",
    "\n",
    "[3] Github :: Haroon Ahmad's : LinearRegression-Multiple-variables : \n",
    "    https://github.com/haroon-ahmad/LinearRegression-Multiple-variables/blob/master/2.py"
   ]
  },
  {
   "cell_type": "markdown",
   "metadata": {},
   "source": [
    "# CHEERS!"
   ]
  }
 ],
 "metadata": {
  "anaconda-cloud": {},
  "kernelspec": {
   "display_name": "Python 2",
   "language": "python",
   "name": "python2"
  },
  "language_info": {
   "codemirror_mode": {
    "name": "ipython",
    "version": 2
   },
   "file_extension": ".py",
   "mimetype": "text/x-python",
   "name": "python",
   "nbconvert_exporter": "python",
   "pygments_lexer": "ipython2",
   "version": "2.7.15rc1"
  }
 },
 "nbformat": 4,
 "nbformat_minor": 1
}
